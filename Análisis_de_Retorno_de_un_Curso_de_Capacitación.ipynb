{
  "nbformat": 4,
  "nbformat_minor": 0,
  "metadata": {
    "colab": {
      "private_outputs": true,
      "provenance": [],
      "authorship_tag": "ABX9TyNamqXMs6WilbQLZYqbSxox",
      "include_colab_link": true
    },
    "kernelspec": {
      "name": "python3",
      "display_name": "Python 3"
    },
    "language_info": {
      "name": "python"
    }
  },
  "cells": [
    {
      "cell_type": "markdown",
      "metadata": {
        "id": "view-in-github",
        "colab_type": "text"
      },
      "source": [
        "<a href=\"https://colab.research.google.com/github/WellcomePeujio/-Analisis-de-Retorno-de-un-Curso-de-Capacitacion/blob/main/An%C3%A1lisis_de_Retorno_de_un_Curso_de_Capacitaci%C3%B3n.ipynb\" target=\"_parent\"><img src=\"https://colab.research.google.com/assets/colab-badge.svg\" alt=\"Open In Colab\"/></a>"
      ]
    },
    {
      "cell_type": "markdown",
      "source": [
        "# Análisis de Retorno de un Curso de Capacitación\n",
        "\n",
        "## Problema\n",
        "\n",
        "Una empresa invierte **5,000 dólares** en la capacitación de sus empleados. Como resultado, observa un aumento del **10%** en la productividad, lo que genera un aumento en los ingresos de **10,000 dólares** anuales.\n",
        "\n",
        "## Preguntas:\n",
        "\n",
        "1. **Calcula el retorno de la inversión (ROI) de la capacitación.**\n",
        "2. **¿Cuánto tiempo tomará recuperar la inversión inicial?**\n",
        "\n"
      ],
      "metadata": {
        "id": "oM_OCXFxqYuV"
      }
    },
    {
      "cell_type": "markdown",
      "source": [
        "# Resolución Matemática: Análisis de Retorno de un Curso de Capacitación\n",
        "\n",
        "## Datos del problema:\n",
        "\n",
        "- **Inversión en capacitación**: 5,000 dólares\n",
        "- **Aumento en la productividad**: 10%\n",
        "- **Aumento en los ingresos anuales**: 10,000 dólares\n",
        "\n",
        "## 1. Cálculo del Retorno de la Inversión (ROI)\n",
        "\n",
        "El Retorno de la Inversión (ROI) se calcula con la siguiente fórmula:\n",
        "\n",
        "$$\n",
        "\\text{ROI} = \\left( \\frac{\\text{Ganancia neta}}{\\text{Inversión inicial}} \\right) \\times 100\n",
        "$$\n",
        "\n",
        "### Paso 1: Determinar la ganancia neta\n",
        "\n",
        "La ganancia neta es el aumento en los ingresos menos la inversión inicial:\n",
        "\n",
        "$$\n",
        "\\text{Ganancia neta} = \\text{Aumento en los ingresos} - \\text{Inversión inicial}\n",
        "$$\n",
        "\n",
        "Sustituyendo los valores:\n",
        "\n",
        "$$\n",
        "\\text{Ganancia neta} = 10,000 - 5,000 = 5,000 \\, \\text{dólares}\n",
        "$$\n",
        "\n",
        "### Paso 2: Calcular el ROI\n",
        "\n",
        "Sustituyendo los valores en la fórmula del ROI:\n",
        "\n",
        "$$\n",
        "\\text{ROI} = \\left( \\frac{5,000}{5,000} \\right) \\times 100 = 100\\%\n",
        "$$\n",
        "\n",
        "## 2. Cálculo del Tiempo para Recuperar la Inversión\n",
        "\n",
        "El tiempo para recuperar la inversión se calcula dividiendo la inversión inicial por el aumento en los ingresos anuales:\n",
        "\n",
        "$$\n",
        "\\text{Tiempo para recuperar la inversión} = \\frac{\\text{Inversión inicial}}{\\text{Aumento en los ingresos}}\n",
        "$$\n",
        "\n",
        "Sustituyendo los valores:\n",
        "\n",
        "$$\n",
        "\\text{Tiempo para recuperar la inversión} = \\frac{5,000}{10,000} = 0.5 \\, \\text{años}\n",
        "$$\n",
        "\n",
        "## 3. Resultados\n",
        "\n",
        "- **Retorno de la Inversión (ROI)**: **100%**\n",
        "- **Tiempo para recuperar la inversión**: **0.5 años** o **6 meses**\n",
        "\n",
        "Esto significa que la inversión en la capacitación tiene un retorno del **100%** y se recuperará en **6 meses**.\n"
      ],
      "metadata": {
        "id": "gEqna-8xrp32"
      }
    },
    {
      "cell_type": "code",
      "source": [
        "import numpy as np\n",
        "import matplotlib.pyplot as plt\n",
        "\n",
        "# Datos del problema\n",
        "inversion_inicial = 5000  # Inversión en capacitación en dólares\n",
        "aumento_ingresos_anuales = 10000  # Aumento en los ingresos anuales en dólares\n",
        "\n",
        "# Cálculo del ROI\n",
        "ganancia_neta = aumento_ingresos_anuales - inversion_inicial\n",
        "roi = (ganancia_neta / inversion_inicial) * 100\n",
        "\n",
        "# Cálculo del tiempo para recuperar la inversión\n",
        "tiempo_para_recuperar = inversion_inicial / aumento_ingresos_anuales\n",
        "\n",
        "# Mostrar resultados\n",
        "print(f\"Retorno de la Inversión (ROI): {roi:.2f}%\")\n",
        "print(f\"Tiempo para recuperar la inversión: {tiempo_para_recuperar:.2f} años (o {tiempo_para_recuperar * 12:.0f} meses)\")\n",
        "\n",
        "# Crear datos para la gráfica\n",
        "meses = np.arange(0, 25)  # Hasta 2 años\n",
        "retorno_acumulado = (aumento_ingresos_anuales / 12) * meses - inversion_inicial\n",
        "\n",
        "# Crear la gráfica\n",
        "plt.figure(figsize=(10, 6))\n",
        "plt.plot(meses, retorno_acumulado, label='Retorno Acumulado', color='green', linewidth=2)\n",
        "plt.axhline(y=0, color='red', linestyle='--', label='Punto de Equilibrio')\n",
        "plt.axvline(x=tiempo_para_recuperar * 12, color='blue', linestyle='--', label=f'Recuperación de Inversión: {tiempo_para_recuperar * 12:.0f} meses')\n",
        "plt.title('Retorno de la Inversión en Capacitación')\n",
        "plt.xlabel('Meses')\n",
        "plt.ylabel('Retorno Acumulado en Dólares')\n",
        "plt.legend()\n",
        "plt.grid(True)\n",
        "plt.show()\n"
      ],
      "metadata": {
        "id": "_7hOE2JisHM7"
      },
      "execution_count": null,
      "outputs": []
    }
  ]
}